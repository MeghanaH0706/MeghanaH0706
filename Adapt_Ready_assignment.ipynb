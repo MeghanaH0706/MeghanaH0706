{
  "nbformat": 4,
  "nbformat_minor": 0,
  "metadata": {
    "colab": {
      "provenance": [],
      "authorship_tag": "ABX9TyPL0C1ZTYf1fOWYQpM2jkPn",
      "include_colab_link": true
    },
    "kernelspec": {
      "name": "python3",
      "display_name": "Python 3"
    },
    "language_info": {
      "name": "python"
    }
  },
  "cells": [
    {
      "cell_type": "markdown",
      "metadata": {
        "id": "view-in-github",
        "colab_type": "text"
      },
      "source": [
        "<a href=\"https://colab.research.google.com/github/MeghanaH0706/MeghanaH0706/blob/main/Adapt_Ready_assignment.ipynb\" target=\"_parent\"><img src=\"https://colab.research.google.com/assets/colab-badge.svg\" alt=\"Open In Colab\"/></a>"
      ]
    },
    {
      "cell_type": "code",
      "execution_count": 26,
      "metadata": {
        "id": "CE2CNwtSJ6Kw"
      },
      "outputs": [],
      "source": [
        "import pandas as pd\n",
        "import zipfile\n",
        "import os\n",
        "import requests"
      ]
    },
    {
      "cell_type": "code",
      "source": [
        "# Function to download and extract the dataset\n",
        "def download_and_extract_data(url, download_path):\n",
        "    response = requests.get(url)\n",
        "    with open(download_path, 'wb') as file:\n",
        "        file.write(response.content)\n",
        "\n",
        "    with zipfile.ZipFile(download_path, 'r') as zip_ref:\n",
        "        zip_ref.extractall(os.path.dirname(download_path))\n",
        "\n",
        "    print(\"Dataset downloaded and extracted successfully.\")"
      ],
      "metadata": {
        "id": "dQH3J0vtKT-B"
      },
      "execution_count": 27,
      "outputs": []
    },
    {
      "cell_type": "code",
      "source": [
        "# Download the dataset\n",
        "data_url = \"https://files.consumerfinance.gov/ccdb/complaints.csv.zip\"\n",
        "download_path = \"complaints.zip\"\n",
        "download_and_extract_data(data_url, download_path)"
      ],
      "metadata": {
        "colab": {
          "base_uri": "https://localhost:8080/"
        },
        "id": "DYvrcG3SKauh",
        "outputId": "ed8be0f8-fd5b-4ac3-e018-af67aebad963"
      },
      "execution_count": 28,
      "outputs": [
        {
          "output_type": "stream",
          "name": "stdout",
          "text": [
            "Dataset downloaded and extracted successfully.\n"
          ]
        }
      ]
    },
    {
      "cell_type": "code",
      "source": [
        "# Load the dataset into a DataFrame\n",
        "complaints_df = pd.read_csv(\"complaints.csv\")"
      ],
      "metadata": {
        "colab": {
          "base_uri": "https://localhost:8080/"
        },
        "id": "b48-5c-cKe2s",
        "outputId": "8fdc0dc2-ae7e-49d9-eafe-c51b4a02da44"
      },
      "execution_count": null,
      "outputs": [
        {
          "output_type": "stream",
          "name": "stderr",
          "text": [
            "<ipython-input-9-5e388b2019a2>:2: DtypeWarning: Columns (16) have mixed types. Specify dtype option on import or set low_memory=False.\n",
            "  complaints_df = pd.read_csv(\"complaints.csv\")\n"
          ]
        }
      ]
    },
    {
      "cell_type": "code",
      "source": [
        "# Display basic information about the dataset\n",
        "print(\"Dataset shape:\", complaints_df.shape)\n",
        "print(\"Columns:\", complaints_df.columns)\n",
        "print(\"Sample records:\")\n",
        "print(complaints_df.head())"
      ],
      "metadata": {
        "colab": {
          "base_uri": "https://localhost:8080/"
        },
        "id": "bSPiu7tiMCMc",
        "outputId": "39c7b153-4606-4481-ae60-4034607b921e"
      },
      "execution_count": null,
      "outputs": [
        {
          "output_type": "stream",
          "name": "stdout",
          "text": [
            "Dataset shape: (5167782, 18)\n",
            "Columns: Index(['Date received', 'Product', 'Sub-product', 'Issue', 'Sub-issue',\n",
            "       'Consumer complaint narrative', 'Company public response', 'Company',\n",
            "       'State', 'ZIP code', 'Tags', 'Consumer consent provided?',\n",
            "       'Submitted via', 'Date sent to company', 'Company response to consumer',\n",
            "       'Timely response?', 'Consumer disputed?', 'Complaint ID'],\n",
            "      dtype='object')\n",
            "Sample records:\n",
            "  Date received                                            Product  \\\n",
            "0    2024-01-24  Credit reporting or other personal consumer re...   \n",
            "1    2024-02-26                                    Debt collection   \n",
            "2    2024-02-26  Credit reporting or other personal consumer re...   \n",
            "3    2024-02-20  Credit reporting or other personal consumer re...   \n",
            "4    2024-01-26  Credit reporting or other personal consumer re...   \n",
            "\n",
            "        Sub-product                                              Issue  \\\n",
            "0  Credit reporting               Incorrect information on your report   \n",
            "1        Other debt  Threatened to contact someone or share informa...   \n",
            "2  Credit reporting               Incorrect information on your report   \n",
            "3  Credit reporting                        Improper use of your report   \n",
            "4  Credit reporting               Incorrect information on your report   \n",
            "\n",
            "                                       Sub-issue  \\\n",
            "0                  Account information incorrect   \n",
            "1        Talked to a third-party about your debt   \n",
            "2            Information belongs to someone else   \n",
            "3  Reporting company used your report improperly   \n",
            "4            Information belongs to someone else   \n",
            "\n",
            "                        Consumer complaint narrative  \\\n",
            "0                                                NaN   \n",
            "1                                                NaN   \n",
            "2                                                NaN   \n",
            "3  I am disappointed to have received a credit re...   \n",
            "4  The companies, along with the credit reporting...   \n",
            "\n",
            "                             Company public response  \\\n",
            "0  Company has responded to the consumer and the ...   \n",
            "1                                                NaN   \n",
            "2  Company believes it acted appropriately as aut...   \n",
            "3                                                NaN   \n",
            "4                                                NaN   \n",
            "\n",
            "                                  Company State ZIP code Tags  \\\n",
            "0  TRANSUNION INTERMEDIATE HOLDINGS, INC.    FL    33578  NaN   \n",
            "1                   Marlette Funding, LLC    IL    60060  NaN   \n",
            "2            CCS Financial Services, Inc.    NC    27536  NaN   \n",
            "3                              LEXISNEXIS    CA    94124  NaN   \n",
            "4                           EQUIFAX, INC.    NC    28804  NaN   \n",
            "\n",
            "  Consumer consent provided? Submitted via Date sent to company  \\\n",
            "0       Consent not provided           Web           2024-01-24   \n",
            "1       Consent not provided           Web           2024-02-26   \n",
            "2       Consent not provided           Web           2024-02-26   \n",
            "3           Consent provided           Web           2024-02-20   \n",
            "4           Consent provided           Web           2024-01-26   \n",
            "\n",
            "      Company response to consumer Timely response? Consumer disputed?  \\\n",
            "0          Closed with explanation              Yes                NaN   \n",
            "1          Closed with explanation              Yes                NaN   \n",
            "2  Closed with non-monetary relief              Yes                NaN   \n",
            "3          Closed with explanation              Yes                NaN   \n",
            "4  Closed with non-monetary relief              Yes                NaN   \n",
            "\n",
            "   Complaint ID  \n",
            "0       8205544  \n",
            "1       8424268  \n",
            "2       8423775  \n",
            "3       8379830  \n",
            "4       8232435  \n"
          ]
        }
      ]
    },
    {
      "cell_type": "markdown",
      "source": [
        "Finding the Length of the Longest Continuous Increasing Subsequence"
      ],
      "metadata": {
        "id": "x_o62HX1NEh8"
      }
    },
    {
      "cell_type": "code",
      "source": [
        "def find_length_of_lcis(nums):\n",
        "    if not nums:\n",
        "        return 0\n",
        "\n",
        "    max_length = 1\n",
        "    current_length = 1\n",
        "\n",
        "    for i in range(1, len(nums)):\n",
        "        if nums[i] > nums[i - 1]:\n",
        "            current_length += 1\n",
        "            max_length = max(max_length, current_length)\n",
        "        else:\n",
        "            current_length = 1\n",
        "\n",
        "    return max_length\n",
        "\n",
        "# Example usage\n",
        "nums1 = [1, 3, 5, 4, 7]\n",
        "nums2 = [2, 2, 2, 2, 2]\n",
        "\n",
        "print(\"Length of longest continuous increasing subsequence for nums1:\", find_length_of_lcis(nums1))\n",
        "print(\"Length of longest continuous increasing subsequence for nums2:\", find_length_of_lcis(nums2))"
      ],
      "metadata": {
        "colab": {
          "base_uri": "https://localhost:8080/"
        },
        "id": "ofCe5CwENGG_",
        "outputId": "eb929c79-c9eb-412c-d8b0-3ced2e83d2f9"
      },
      "execution_count": null,
      "outputs": [
        {
          "output_type": "stream",
          "name": "stdout",
          "text": [
            "Length of longest continuous increasing subsequence for nums1: 3\n",
            "Length of longest continuous increasing subsequence for nums2: 1\n"
          ]
        }
      ]
    },
    {
      "cell_type": "markdown",
      "source": [
        "Arranging Non-Negative Integers to Form the Largest Number"
      ],
      "metadata": {
        "id": "C2_BcatWNlEf"
      }
    },
    {
      "cell_type": "code",
      "source": [
        "from functools import cmp_to_key\n",
        "\n",
        "def largest_number(nums):\n",
        "    nums = list(map(str, nums))\n",
        "    nums.sort(key=cmp_to_key(lambda a, b: int(b + a) - int(a + b)))\n",
        "    return str(int(''.join(nums)))\n",
        "\n",
        "# Example usage\n",
        "nums1 = [10, 2]\n",
        "nums2 = [3, 30, 34, 5, 9]\n",
        "\n",
        "print(\"Largest number for nums1:\", largest_number(nums1))\n",
        "print(\"Largest number for nums2:\", largest_number(nums2))"
      ],
      "metadata": {
        "colab": {
          "base_uri": "https://localhost:8080/"
        },
        "id": "EvQErMSgNlz2",
        "outputId": "3e5fab6e-6fb0-4352-ef1c-c40a2acbb79f"
      },
      "execution_count": null,
      "outputs": [
        {
          "output_type": "stream",
          "name": "stdout",
          "text": [
            "Largest number for nums1: 210\n",
            "Largest number for nums2: 9534330\n"
          ]
        }
      ]
    },
    {
      "cell_type": "code",
      "source": [
        "import os\n",
        "print(\"Current working directory:\", os.getcwd())"
      ],
      "metadata": {
        "colab": {
          "base_uri": "https://localhost:8080/"
        },
        "id": "Wxd4KWNLPpRw",
        "outputId": "5989aa15-7c54-40ab-8a4b-868e375f4ce9"
      },
      "execution_count": null,
      "outputs": [
        {
          "output_type": "stream",
          "name": "stdout",
          "text": [
            "Current working directory: /content\n"
          ]
        }
      ]
    },
    {
      "cell_type": "markdown",
      "source": [
        "Storing Servlet Information from JSON to CSV Using Python"
      ],
      "metadata": {
        "id": "UOpYw8ZXN9-u"
      }
    },
    {
      "cell_type": "code",
      "source": [
        "import json\n",
        "import csv\n",
        "\n",
        "# Specify the path to the JSON file\n",
        "json_file_path = \"/content/DT A1 sample_json (1) (1).json\"\n",
        "\n",
        "try:\n",
        "    # Read JSON file\n",
        "    with open(json_file_path, 'r') as file:\n",
        "        data = json.load(file)\n",
        "\n",
        "    # Extract servlet information\n",
        "    servlets = [(servlet['servlet-name'], servlet['servlet-class']) for servlet in data['web-app']['servlet']]\n",
        "\n",
        "    # Write servlet information to CSV file\n",
        "    with open('servlets.csv', 'w', newline='') as file:\n",
        "        writer = csv.writer(file)\n",
        "        writer.writerow(['servlet-name', 'servlet-class'])\n",
        "        writer.writerows(servlets)\n",
        "\n",
        "    print(\"Servlet information saved to servlets.csv\")\n",
        "except FileNotFoundError:\n",
        "    print(\"Error: JSON file not found.\")\n",
        "except json.JSONDecodeError:\n",
        "    print(\"Error: Invalid JSON file format.\")\n",
        "except KeyError:\n",
        "    print(\"Error: JSON file does not have the expected structure.\")\n",
        "except Exception as e:\n",
        "    print(\"An error occurred:\", str(e))\n"
      ],
      "metadata": {
        "colab": {
          "base_uri": "https://localhost:8080/"
        },
        "id": "hPpS2fg3QN0I",
        "outputId": "73fc208d-398b-4263-a663-6833ad64c456"
      },
      "execution_count": null,
      "outputs": [
        {
          "output_type": "stream",
          "name": "stdout",
          "text": [
            "Servlet information saved to servlets.csv\n"
          ]
        }
      ]
    }
  ]
}